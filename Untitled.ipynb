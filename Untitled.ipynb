{
 "cells": [
  {
   "cell_type": "code",
   "execution_count": 1,
   "id": "cc801d99",
   "metadata": {},
   "outputs": [
    {
     "data": {
      "text/plain": [
       "10"
      ]
     },
     "execution_count": 1,
     "metadata": {},
     "output_type": "execute_result"
    }
   ],
   "source": [
    "a=10\n",
    "a"
   ]
  },
  {
   "cell_type": "code",
   "execution_count": 2,
   "id": "21a0b12a",
   "metadata": {},
   "outputs": [
    {
     "data": {
      "text/plain": [
       "int"
      ]
     },
     "execution_count": 2,
     "metadata": {},
     "output_type": "execute_result"
    }
   ],
   "source": [
    "a=10\n",
    "type(a)"
   ]
  },
  {
   "cell_type": "code",
   "execution_count": 3,
   "id": "fe4887c8",
   "metadata": {},
   "outputs": [
    {
     "name": "stdout",
     "output_type": "stream",
     "text": [
      "raghu\n"
     ]
    },
    {
     "data": {
      "text/plain": [
       "str"
      ]
     },
     "execution_count": 3,
     "metadata": {},
     "output_type": "execute_result"
    }
   ],
   "source": [
    "a=\"raghu\"\n",
    "print(a)\n",
    "type(a)\n"
   ]
  },
  {
   "cell_type": "code",
   "execution_count": 4,
   "id": "0ad75b8e",
   "metadata": {},
   "outputs": [
    {
     "name": "stdout",
     "output_type": "stream",
     "text": [
      "(2+3j)\n"
     ]
    },
    {
     "data": {
      "text/plain": [
       "complex"
      ]
     },
     "execution_count": 4,
     "metadata": {},
     "output_type": "execute_result"
    }
   ],
   "source": [
    "a=2+3j\n",
    "print(a)\n",
    "type(a)"
   ]
  },
  {
   "cell_type": "code",
   "execution_count": 5,
   "id": "fbaab44a",
   "metadata": {},
   "outputs": [
    {
     "name": "stdout",
     "output_type": "stream",
     "text": [
      "True\n"
     ]
    },
    {
     "data": {
      "text/plain": [
       "bool"
      ]
     },
     "execution_count": 5,
     "metadata": {},
     "output_type": "execute_result"
    }
   ],
   "source": [
    "a=True\n",
    "print(a)\n",
    "type(a)"
   ]
  },
  {
   "cell_type": "code",
   "execution_count": 6,
   "id": "f2fb166e",
   "metadata": {},
   "outputs": [
    {
     "name": "stdout",
     "output_type": "stream",
     "text": [
      "20.0\n"
     ]
    },
    {
     "data": {
      "text/plain": [
       "float"
      ]
     },
     "execution_count": 6,
     "metadata": {},
     "output_type": "execute_result"
    }
   ],
   "source": [
    "a=20.0\n",
    "print(a)\n",
    "type(a)"
   ]
  },
  {
   "cell_type": "code",
   "execution_count": 7,
   "id": "acf4b099",
   "metadata": {},
   "outputs": [
    {
     "name": "stdout",
     "output_type": "stream",
     "text": [
      "harekrishnaramakrishnaramjammamkimnameraghu\n"
     ]
    }
   ],
   "source": [
    "a=\"hare\"\n",
    "b=\"krishna\"\n",
    "c=\"rama\"\n",
    "d=\"krishna\"\n",
    "e=\"ram\"\n",
    "f=\"jam\"\n",
    "g=\"mam\"\n",
    "h=\"kim\"\n",
    "i=\"name\"\n",
    "j=\"raghu\"\n",
    "z=a+b+c+d+e+f+g+h+i+j\n",
    "print(z)"
   ]
  },
  {
   "cell_type": "code",
   "execution_count": 8,
   "id": "e50c3129",
   "metadata": {},
   "outputs": [
    {
     "name": "stdout",
     "output_type": "stream",
     "text": [
      "55\n"
     ]
    }
   ],
   "source": [
    "\n",
    "i=9\n",
    "j=10\n",
    "z=a+b+c+d+e+f+g+h+i+j\n",
    "print(z)"
   ]
  },
  {
   "cell_type": "markdown",
   "id": "1cb263e2",
   "metadata": {},
   "source": [
    "##this cell is used for mark down"
   ]
  },
  {
   "cell_type": "markdown",
   "id": "d8a67797",
   "metadata": {},
   "source": [
    "# addition +\n",
    "# substraction -\n",
    "# multiplication *\n",
    "# division /\n",
    "# remainder %\n",
    "# power **\n",
    "# floor division //"
   ]
  },
  {
   "cell_type": "code",
   "execution_count": 6,
   "id": "47cf6129",
   "metadata": {},
   "outputs": [
    {
     "name": "stdout",
     "output_type": "stream",
     "text": [
      "30 -10 200 0.5 10 100000000000000000000 0 \n"
     ]
    }
   ],
   "source": [
    "a=10\n",
    "b=20\n",
    "c=a+b\n",
    "d=a-b\n",
    "e=a*b\n",
    "f=a/b\n",
    "g=a%b\n",
    "h=a**b\n",
    "i=a//b\n",
    "print(c,d,e,f,g,h,i)"
   ]
  },
  {
   "cell_type": "code",
   "execution_count": 7,
   "id": "c2208a88",
   "metadata": {},
   "outputs": [
    {
     "name": "stdout",
     "output_type": "stream",
     "text": [
      "True False False True True False\n"
     ]
    }
   ],
   "source": [
    "a=45\n",
    "b=30\n",
    "print(a>b,a<b,a==b,a!=b,a>=b,a<=b)"
   ]
  },
  {
   "cell_type": "code",
   "execution_count": 8,
   "id": "0a6c518a",
   "metadata": {},
   "outputs": [
    {
     "data": {
      "text/plain": [
       "False"
      ]
     },
     "execution_count": 8,
     "metadata": {},
     "output_type": "execute_result"
    }
   ],
   "source": [
    "d>10"
   ]
  },
  {
   "cell_type": "code",
   "execution_count": 1,
   "id": "3c090910",
   "metadata": {},
   "outputs": [
    {
     "data": {
      "text/plain": [
       "True"
      ]
     },
     "execution_count": 1,
     "metadata": {},
     "output_type": "execute_result"
    }
   ],
   "source": [
    "s=20\n",
    "s>10"
   ]
  },
  {
   "cell_type": "code",
   "execution_count": 2,
   "id": "fbd9c373",
   "metadata": {},
   "outputs": [
    {
     "data": {
      "text/plain": [
       "True"
      ]
     },
     "execution_count": 2,
     "metadata": {},
     "output_type": "execute_result"
    }
   ],
   "source": [
    "s=100\n",
    "s>10"
   ]
  },
  {
   "cell_type": "code",
   "execution_count": 3,
   "id": "c95a9f4c",
   "metadata": {},
   "outputs": [
    {
     "data": {
      "text/plain": [
       "True"
      ]
     },
     "execution_count": 3,
     "metadata": {},
     "output_type": "execute_result"
    }
   ],
   "source": [
    "cgpa=10.0\n",
    "cgpa>9.0 and cgpa<=10.0"
   ]
  },
  {
   "cell_type": "code",
   "execution_count": 4,
   "id": "a9bb6050",
   "metadata": {},
   "outputs": [
    {
     "data": {
      "text/plain": [
       "True"
      ]
     },
     "execution_count": 4,
     "metadata": {},
     "output_type": "execute_result"
    }
   ],
   "source": [
    "cgpa=8.2\n",
    "cgpa>8.0 or cgpa<=9.0"
   ]
  },
  {
   "cell_type": "markdown",
   "id": "72bd94dd",
   "metadata": {},
   "source": [
    "a=1,2,3\n",
    "1 in a"
   ]
  },
  {
   "cell_type": "code",
   "execution_count": 5,
   "id": "b3a2d50a",
   "metadata": {},
   "outputs": [
    {
     "data": {
      "text/plain": [
       "True"
      ]
     },
     "execution_count": 5,
     "metadata": {},
     "output_type": "execute_result"
    }
   ],
   "source": [
    "a={1,2,3,4}\n",
    "1 in a"
   ]
  },
  {
   "cell_type": "code",
   "execution_count": 5,
   "id": "416b9fe2",
   "metadata": {},
   "outputs": [
    {
     "name": "stdout",
     "output_type": "stream",
     "text": [
      "2004\n",
      "False\n"
     ]
    }
   ],
   "source": [
    "def leap_year(a):\n",
    "    leap =False\n",
    "    if(a%4==0 and a%100==0 and a%400==0):\n",
    "        leap=True\n",
    "    return leap\n",
    "a=int(input())\n",
    "\n",
    "print(leap_year(a))\n",
    "    "
   ]
  },
  {
   "cell_type": "code",
   "execution_count": 44,
   "id": "f1349002",
   "metadata": {},
   "outputs": [
    {
     "name": "stdout",
     "output_type": "stream",
     "text": [
      "sri\n",
      "['s,r,i, ']\n"
     ]
    }
   ],
   "source": [
    "a=input()\n",
    "b=a.split()\n",
    "c=[]\n",
    "for i in b:\n",
    "    c+=i+\" \"\n",
    "    d=\",\".join(c)\n",
    "    \n",
    "print([d])\n",
    "    "
   ]
  },
  {
   "cell_type": "code",
   "execution_count": 5,
   "id": "94f8d86f",
   "metadata": {},
   "outputs": [
    {
     "name": "stdout",
     "output_type": "stream",
     "text": [
      "9\n",
      "55\n"
     ]
    }
   ],
   "source": [
    "def fibanoci(x):\n",
    "    if x<=1:\n",
    "        return 1\n",
    "    return fibanoci(x-1)+fibanoci(x-2)\n",
    "x=int(input())\n",
    "print( fibanoci(x))\n"
   ]
  },
  {
   "cell_type": "code",
   "execution_count": 6,
   "id": "96571472",
   "metadata": {},
   "outputs": [
    {
     "name": "stdout",
     "output_type": "stream",
     "text": [
      "4\n",
      "24\n"
     ]
    }
   ],
   "source": [
    "def recursion(n):\n",
    "    if n==1:\n",
    "        return 1\n",
    "    return n*recursion(n-1)\n",
    "n=int(input())\n",
    "print( recursion(n))\n",
    "    "
   ]
  },
  {
   "cell_type": "code",
   "execution_count": 3,
   "id": "6a33ec43",
   "metadata": {},
   "outputs": [
    {
     "name": "stdout",
     "output_type": "stream",
     "text": [
      "1 2 3 4\n",
      "[1, 2, 3, 4]\n"
     ]
    }
   ],
   "source": [
    "a=input().split()\n",
    "c=[]\n",
    "for i in a:\n",
    "    i=int(i)\n",
    "    c.append(i)\n",
    "    \n",
    "    \n",
    "    \n",
    "    \n",
    "    \n",
    "print(c)\n",
    "    \n",
    "    \n",
    "    \n"
   ]
  },
  {
   "cell_type": "code",
   "execution_count": 17,
   "id": "ab85c5fe",
   "metadata": {},
   "outputs": [
    {
     "name": "stdout",
     "output_type": "stream",
     "text": [
      "[1, 2, 3, 4, 5, 5]\n",
      "[9, 8, 7, 6, 1, 2, 3, 4, 5, 5]\n"
     ]
    }
   ],
   "source": [
    "a=[1,2,3,4,5]\n",
    "a.append(5)\n",
    "print(a)\n",
    "b=[9,8,7,6]\n",
    "c=b.extend(a)\n",
    "print(b)"
   ]
  },
  {
   "cell_type": "code",
   "execution_count": 19,
   "id": "21ff726d",
   "metadata": {},
   "outputs": [
    {
     "name": "stdout",
     "output_type": "stream",
     "text": [
      "4\n",
      "[1, 3]\n"
     ]
    }
   ],
   "source": [
    "a=[1,2,3,4]\n",
    "c=a.pop()\n",
    "print(c)\n",
    "d=a.pop(1)\n",
    "print(a)\n"
   ]
  },
  {
   "cell_type": "code",
   "execution_count": 22,
   "id": "b456bade",
   "metadata": {},
   "outputs": [
    {
     "name": "stdout",
     "output_type": "stream",
     "text": [
      "[3]\n"
     ]
    }
   ],
   "source": [
    "a.remove(1)\n",
    "print(a)"
   ]
  },
  {
   "cell_type": "code",
   "execution_count": 23,
   "id": "616104e9",
   "metadata": {},
   "outputs": [
    {
     "name": "stdout",
     "output_type": "stream",
     "text": [
      "[]\n"
     ]
    }
   ],
   "source": [
    "a.clear()\n",
    "print(a)"
   ]
  },
  {
   "cell_type": "code",
   "execution_count": 25,
   "id": "acb1f153",
   "metadata": {},
   "outputs": [
    {
     "name": "stdout",
     "output_type": "stream",
     "text": [
      "[]\n"
     ]
    }
   ],
   "source": [
    "a.count(0)\n",
    "print(a)"
   ]
  },
  {
   "cell_type": "code",
   "execution_count": 26,
   "id": "eb128331",
   "metadata": {},
   "outputs": [
    {
     "data": {
      "text/plain": [
       "0"
      ]
     },
     "execution_count": 26,
     "metadata": {},
     "output_type": "execute_result"
    }
   ],
   "source": [
    "a=[1,2,3,4]\n",
    "a.index(1)"
   ]
  },
  {
   "cell_type": "code",
   "execution_count": 27,
   "id": "8fad0891",
   "metadata": {},
   "outputs": [
    {
     "name": "stdout",
     "output_type": "stream",
     "text": [
      "[100, 1, 2, 3, 4]\n"
     ]
    }
   ],
   "source": [
    "a.insert(0,100)\n",
    "print(a)"
   ]
  },
  {
   "cell_type": "code",
   "execution_count": 45,
   "id": "95f9d940",
   "metadata": {},
   "outputs": [
    {
     "name": "stdout",
     "output_type": "stream",
     "text": [
      "2345\n",
      "'2345'\n"
     ]
    }
   ],
   "source": [
    "a=input()\n",
    "b=a.split(\",\")\n",
    "c=[]\n",
    "for i in b:\n",
    "    i=int(i)\n",
    "    c.append(f\"'{i}'\")\n",
    "    d=\",\".join(c)\n",
    "    \n",
    "print(d)\n",
    "    \n",
    "    "
   ]
  },
  {
   "cell_type": "code",
   "execution_count": 40,
   "id": "abf86f00",
   "metadata": {},
   "outputs": [
    {
     "data": {
      "text/plain": [
       "2345"
      ]
     },
     "execution_count": 40,
     "metadata": {},
     "output_type": "execute_result"
    }
   ],
   "source": [
    "2345\n"
   ]
  },
  {
   "cell_type": "code",
   "execution_count": 2,
   "id": "2cb6d127",
   "metadata": {},
   "outputs": [
    {
     "name": "stdout",
     "output_type": "stream",
     "text": [
      "2345\n",
      "2345\n",
      "2245\n",
      "2345\n",
      "[2345, 2345, 2245, 2345]\n"
     ]
    }
   ],
   "source": [
    "a=[]\n",
    "\n",
    "for i in range(4):\n",
    "    b=int(input())\n",
    "    a.append(b)\n",
    "print(a)"
   ]
  },
  {
   "cell_type": "code",
   "execution_count": 1,
   "id": "8dd61306",
   "metadata": {},
   "outputs": [
    {
     "name": "stdout",
     "output_type": "stream",
     "text": [
      "2 3 4 5\n",
      "5 6 7 8\n",
      "2 5\n",
      "2 6\n",
      "2 7\n",
      "2 8\n",
      "3 5\n",
      "3 6\n",
      "3 7\n",
      "3 8\n",
      "4 5\n",
      "4 6\n",
      "4 7\n",
      "4 8\n",
      "5 5\n",
      "5 6\n",
      "5 7\n",
      "5 8\n"
     ]
    }
   ],
   "source": [
    "list1 =input().split()\n",
    "b=input().split()\n",
    "for i in list1:\n",
    "    for j in b:\n",
    "        print(i,j)"
   ]
  },
  {
   "cell_type": "code",
   "execution_count": 2,
   "id": "411ff9ee",
   "metadata": {},
   "outputs": [
    {
     "name": "stdout",
     "output_type": "stream",
     "text": [
      "2 3 4 5\n",
      "['2', '3', '4', '5']\n"
     ]
    }
   ],
   "source": [
    "l1=input().split()\n",
    "l2=[]\n",
    "for i in l1:\n",
    "    l2.append(i)\n",
    "print(l2)"
   ]
  },
  {
   "cell_type": "code",
   "execution_count": 3,
   "id": "c0f11276",
   "metadata": {},
   "outputs": [
    {
     "name": "stdout",
     "output_type": "stream",
     "text": [
      "2 3 4 5\n",
      "['2', '3', '4', '5']\n"
     ]
    }
   ],
   "source": [
    "l1=input().split()\n",
    "l2=[]\n",
    "for i in l1:\n",
    "    l2+=[i]\n",
    "print(l2)"
   ]
  },
  {
   "cell_type": "code",
   "execution_count": 11,
   "id": "4b651185",
   "metadata": {},
   "outputs": [
    {
     "name": "stdout",
     "output_type": "stream",
     "text": [
      "5 3 4 2 1\n",
      "5\n"
     ]
    }
   ],
   "source": [
    "a=input().split()\n",
    "max=0\n",
    "for i in a:\n",
    "    i=int(i)\n",
    "    if(i>max):\n",
    "        max=i\n",
    "print(max)"
   ]
  },
  {
   "cell_type": "code",
   "execution_count": 12,
   "id": "48cec332",
   "metadata": {},
   "outputs": [
    {
     "name": "stdout",
     "output_type": "stream",
     "text": [
      " 2 3 4 5 \n",
      "5\n"
     ]
    }
   ],
   "source": [
    "a=input().split()\n",
    "min= n\n",
    "for i in a:\n",
    "    i=int(i)\n",
    "    if(i<min):\n",
    "        min=i\n",
    "print(i)"
   ]
  },
  {
   "cell_type": "code",
   "execution_count": 13,
   "id": "918eaa8d",
   "metadata": {},
   "outputs": [
    {
     "name": "stdout",
     "output_type": "stream",
     "text": [
      "[1, 2, 3, 4, 5, 22, 33]\n"
     ]
    }
   ],
   "source": [
    "numbers=[1,2,3,4,5,33,22]\n",
    "for i in range(0,len(numbers)):\n",
    "    for j in range(i+1,len(numbers)):\n",
    "        if(numbers[i]>numbers[j]):\n",
    "            temp=numbers[i]\n",
    "            numbers[i]=numbers[j]\n",
    "            numbers[j]=temp\n",
    "print(numbers)"
   ]
  },
  {
   "cell_type": "code",
   "execution_count": 14,
   "id": "1167c339",
   "metadata": {},
   "outputs": [
    {
     "name": "stdout",
     "output_type": "stream",
     "text": [
      "[33, 22, 5, 4, 3, 2, 1]\n"
     ]
    }
   ],
   "source": [
    "numbers=[1,2,3,4,5,33,22]\n",
    "for i in range(0,len(numbers)):\n",
    "    for j in range(i+1,len(numbers)):\n",
    "        if(numbers[i]<numbers[j]):\n",
    "            temp=numbers[i]\n",
    "            numbers[i]=numbers[j]\n",
    "            numbers[j]=temp\n",
    "print(numbers)"
   ]
  },
  {
   "cell_type": "code",
   "execution_count": 16,
   "id": "75ae35d7",
   "metadata": {},
   "outputs": [
    {
     "name": "stdout",
     "output_type": "stream",
     "text": [
      "234\n",
      "9\n"
     ]
    }
   ],
   "source": [
    "\n",
    "def sum(numbers):\n",
    "    if numbers<10:\n",
    "        return numbers\n",
    "    return(numbers%10)+sum(numbers//10)\n",
    "numbers=int(input())\n",
    "print(sum(numbers))"
   ]
  },
  {
   "cell_type": "code",
   "execution_count": 18,
   "id": "79e3bcd2",
   "metadata": {},
   "outputs": [
    {
     "name": "stdout",
     "output_type": "stream",
     "text": [
      "5\n",
      "120\n"
     ]
    }
   ],
   "source": [
    "a=int(input())\n",
    "fact=1\n",
    "for i in range(1,a+1):\n",
    "    fact*=i\n",
    "print(fact)\n",
    "    "
   ]
  },
  {
   "cell_type": "code",
   "execution_count": 21,
   "id": "0b179863",
   "metadata": {},
   "outputs": [
    {
     "name": "stdout",
     "output_type": "stream",
     "text": [
      "5\n",
      "120\n"
     ]
    }
   ],
   "source": [
    "def fact(numbers):\n",
    "    if numbers==1:\n",
    "        return 1\n",
    "    return numbers*fact(numbers-1)\n",
    "a=int(input())\n",
    "print(fact(a))"
   ]
  },
  {
   "cell_type": "code",
   "execution_count": 30,
   "id": "1ea971bc",
   "metadata": {},
   "outputs": [
    {
     "name": "stdout",
     "output_type": "stream",
     "text": [
      "Enter the string: marry\n",
      "marry is not a Palindrome\n"
     ]
    }
   ],
   "source": [
    "\n",
    "string = input('Enter the string: ')\n",
    "\n",
    "\n",
    "i=0\n",
    "for i in range(len(string)):\n",
    "   if string[i]!=string[-1-i]:\n",
    "      print(string,'is not a Palindrome')\n",
    "      break\n",
    "else:\n",
    "    print(string,'is a Palindrome')\n",
    "\n",
    "\n"
   ]
  },
  {
   "cell_type": "code",
   "execution_count": 37,
   "id": "a58511e6",
   "metadata": {},
   "outputs": [
    {
     "name": "stdout",
     "output_type": "stream",
     "text": [
      "8\n",
      "2\n",
      "4\n",
      "6\n",
      "8\n",
      "1\n",
      "3\n",
      "5\n",
      "7\n"
     ]
    }
   ],
   "source": [
    "a=int(input())\n",
    "for i in range(1,a+1):\n",
    "    if i%2==0:\n",
    "        print(i)\n",
    "for i in range(1,a+1):\n",
    "    if i%2==1:\n",
    "        print(i)\n",
    "\n"
   ]
  },
  {
   "cell_type": "code",
   "execution_count": 38,
   "id": "f1b860df",
   "metadata": {},
   "outputs": [
    {
     "name": "stdout",
     "output_type": "stream",
     "text": [
      "8\n",
      "20\n"
     ]
    }
   ],
   "source": [
    "a=int(input())\n",
    "sum=0\n",
    "for i in range(1,a+1):\n",
    "    if i%2==0:\n",
    "        sum+=i\n",
    "print(sum)"
   ]
  },
  {
   "cell_type": "code",
   "execution_count": 1,
   "id": "db5e321e",
   "metadata": {},
   "outputs": [
    {
     "name": "stdout",
     "output_type": "stream",
     "text": [
      "madam\n",
      "madam is palindrome\n"
     ]
    }
   ],
   "source": [
    "def palindrome(string):\n",
    "    for i in range(len(string)):\n",
    "        if string[i]!=string[-1-i]:\n",
    "            print(string,\"is  not palindrome\")\n",
    "    else:\n",
    "        print(string,\"is palindrome\")\n",
    "string=input()\n",
    "palindrome(string)\n"
   ]
  },
  {
   "cell_type": "code",
   "execution_count": null,
   "id": "52110bd0",
   "metadata": {},
   "outputs": [],
   "source": [
    "d={101:{50:[7,8,9,10],'apple':(20,10,70,[90,80,270])}}\n",
    "d[101]['apple'][3][1]\n",
    "d[101]\n"
   ]
  },
  {
   "cell_type": "code",
   "execution_count": 4,
   "id": "2086c9e0",
   "metadata": {},
   "outputs": [
    {
     "name": "stdout",
     "output_type": "stream",
     "text": [
      "2 3 4 5\n",
      "3 4 5 6\n",
      "2 3\n",
      "2 4\n",
      "2 5\n",
      "2 6\n",
      "3 3\n",
      "3 4\n",
      "3 5\n",
      "3 6\n",
      "4 3\n",
      "4 4\n",
      "4 5\n",
      "4 6\n",
      "5 3\n",
      "5 4\n",
      "5 5\n",
      "5 6\n"
     ]
    }
   ],
   "source": [
    "a=input().split()\n",
    "c=input().split()\n",
    "i=int(i)\n",
    "j=int(j)\n",
    "\n",
    "for i in a:\n",
    "    for j in c:\n",
    "        print(i,j)\n",
    "        \n",
    "        \n",
    "    "
   ]
  },
  {
   "cell_type": "code",
   "execution_count": null,
   "id": "00700316",
   "metadata": {},
   "outputs": [],
   "source": [
    "a=input()\n",
    "b=len(a)\n",
    "sum=0\n",
    "for i in a:\n",
    "    i=int(i)\n",
    "    if i%2==0:\n",
    "        sum+=i\n",
    "        d=sum/b\n",
    "    else:\n",
    "        d=sum+1/b\n",
    "        "
   ]
  },
  {
   "cell_type": "code",
   "execution_count": null,
   "id": "f664beae",
   "metadata": {},
   "outputs": [],
   "source": []
  }
 ],
 "metadata": {
  "kernelspec": {
   "display_name": "Python 3 (ipykernel)",
   "language": "python",
   "name": "python3"
  },
  "language_info": {
   "codemirror_mode": {
    "name": "ipython",
    "version": 3
   },
   "file_extension": ".py",
   "mimetype": "text/x-python",
   "name": "python",
   "nbconvert_exporter": "python",
   "pygments_lexer": "ipython3",
   "version": "3.11.5"
  }
 },
 "nbformat": 4,
 "nbformat_minor": 5
}
